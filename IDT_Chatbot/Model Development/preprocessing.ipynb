{
 "cells": [
  {
   "cell_type": "code",
   "execution_count": 1,
   "metadata": {},
   "outputs": [],
   "source": [
    "import pandas as pd"
   ]
  },
  {
   "cell_type": "code",
   "execution_count": 2,
   "metadata": {},
   "outputs": [],
   "source": [
    "dataset = pd.read_csv(\"english.csv\")"
   ]
  },
  {
   "cell_type": "code",
   "execution_count": 3,
   "metadata": {},
   "outputs": [],
   "source": [
    "# rename columns to lowercase\n",
    "columns = dataset.columns\n",
    "columns = [col.lower() for col in columns]\n",
    "dataset.columns = columns"
   ]
  },
  {
   "cell_type": "code",
   "execution_count": 4,
   "metadata": {},
   "outputs": [],
   "source": [
    "intents = dataset[[\"intent\"]]"
   ]
  },
  {
   "cell_type": "code",
   "execution_count": 5,
   "metadata": {},
   "outputs": [],
   "source": [
    "intents = intents.dropna()"
   ]
  },
  {
   "cell_type": "code",
   "execution_count": 6,
   "metadata": {},
   "outputs": [],
   "source": [
    "list_intents = intents[\"intent\"].values.tolist()"
   ]
  },
  {
   "cell_type": "code",
   "execution_count": 7,
   "metadata": {},
   "outputs": [],
   "source": [
    "length = len(dataset)"
   ]
  },
  {
   "cell_type": "code",
   "execution_count": 8,
   "metadata": {},
   "outputs": [],
   "source": [
    "# fill missing values in intent column\n",
    "k = -1\n",
    "for i in range(length):\n",
    "    if pd.isnull(dataset.loc[i,\"intent\"]):\n",
    "        dataset.loc[i,\"intent\"] = list_intents[k]\n",
    "    else:\n",
    "        k+=1"
   ]
  },
  {
   "cell_type": "code",
   "execution_count": 9,
   "metadata": {},
   "outputs": [],
   "source": [
    "entities = dataset[[\"entity\"]]"
   ]
  },
  {
   "cell_type": "code",
   "execution_count": 10,
   "metadata": {},
   "outputs": [],
   "source": [
    "entities = entities.dropna()"
   ]
  },
  {
   "cell_type": "code",
   "execution_count": 11,
   "metadata": {},
   "outputs": [],
   "source": [
    "list_entities = entities[\"entity\"].values.tolist()"
   ]
  },
  {
   "cell_type": "code",
   "execution_count": 12,
   "metadata": {},
   "outputs": [],
   "source": [
    "# fill missing values in entity column\n",
    "entity_index = -1\n",
    "for i in range(length):\n",
    "    if pd.isnull(dataset.loc[i,\"entity\"]):\n",
    "        dataset.loc[i,\"entity\"] = list_entities[entity_index]\n",
    "    else:\n",
    "        entity_index += 1"
   ]
  },
  {
   "cell_type": "code",
   "execution_count": 13,
   "metadata": {},
   "outputs": [],
   "source": [
    "dataset_intent_entity = dataset[[\"intent\",\"entity\"]]"
   ]
  },
  {
   "cell_type": "code",
   "execution_count": 14,
   "metadata": {},
   "outputs": [],
   "source": [
    "intent_entity = dataset_intent_entity.groupby([\"intent\",\"entity\"]).size()"
   ]
  },
  {
   "cell_type": "code",
   "execution_count": 15,
   "metadata": {},
   "outputs": [],
   "source": [
    "intent_entity_df = intent_entity.reset_index()"
   ]
  },
  {
   "cell_type": "code",
   "execution_count": 16,
   "metadata": {},
   "outputs": [],
   "source": [
    "# create dictionary of intent and entity\n",
    "dict_intent_entity = {}\n",
    "length_ie = len(intent_entity_df)\n",
    "for i in range(length_ie):\n",
    "    intent = intent_entity_df.loc[i,\"intent\"].lower()\n",
    "    entity = intent_entity_df.loc[i,\"entity\"]\n",
    "    flist_entity=entity.lower().split(\",\")\n",
    "    flist_entity = [x.strip() for x in flist_entity]\n",
    "    list_answer_en = dataset[dataset[\"entity\"]==entity][[\"eng answer\"]].dropna()[\"eng answer\"].values.tolist()\n",
    "    list_answer_km = dataset[dataset[\"entity\"]==entity][[\"kh answer\"]].dropna()[\"kh answer\"].values.tolist()\n",
    "    if intent not in dict_intent_entity:\n",
    "        dict_intent_entity[intent] = {}\n",
    "    dict_intent_entity[intent][tuple(flist_entity)] = {\"en\":list_answer_en,\"km\":list_answer_km}"
   ]
  },
  {
   "cell_type": "code",
   "execution_count": 17,
   "metadata": {},
   "outputs": [
    {
     "data": {
      "text/plain": [
       "{'askforadmission': {('cost',\n",
       "   'charge',\n",
       "   'តម្លៃ',\n",
       "   'ថ្លៃ'): {'en': ['School will charge after students submit register form.'], 'km': ['សាលានឹងគិតថ្លៃបន្ទាប់ពីសិស្សដាក់ទម្រង់ចុះឈ្មោះ។']},\n",
       "  ('document',\n",
       "   'ឯកសារ'): {'en': ['The document that school need is _student photo 4x6 _nation ID card _Certificate grade 12. For more infomation https://www.cadt.edu.kh/academic/admission/'], 'km': ['ឯកសារដែលសាលាត្រូវការគឺ _រូបថតសិស្ស 4x6 _អត្តសញ្ញាណប័ណ្ណសញ្ជាតិខ្មែរ _វិញ្ញាបនបត្រថ្នាក់ទី១២។ នេះជាតំណភ្ជាប់ដែលអ្នកអាចចូលទៅកាន់ោ: https://www.cadt.edu.kh/academic/admission/']},\n",
       "  ('register',\n",
       "   'online',\n",
       "   'offline',\n",
       "   'physical',\n",
       "   'អ៊ីនធឺណិត',\n",
       "   'ដោយផ្ទាល់'): {'en': ['For your convenience, we offer online and in-person registration options.'], 'km': ['ដើម្បីភាពងាយស្រួលរបស់អ្នក យើងផ្តល់ជូននូវជម្រើសចុះឈ្មោះតាមអ៊ីនធឺណិត និងដោយផ្ទាល់។']},\n",
       "  ('ឯណា',\n",
       "   'ដូចម្តេច',\n",
       "   'how to',\n",
       "   'where'): {'en': ['Here is the link you can visit:  https://www.idt.edu.kh/admission-2/'], 'km': ['នេះជាតំណភ្ជាប់ដែលអ្នកអាចចូលទៅកាន់:  https://www.idt.edu.kh/admission-2/']}},\n",
       " 'askforcontact': {('phone',\n",
       "   'contact',\n",
       "   'number',\n",
       "   'information',\n",
       "   'phone',\n",
       "   'info',\n",
       "   'ទូរស័ព្ទ',\n",
       "   'ទំនាក់ទំនង',\n",
       "   'លេខ',\n",
       "   'ព័ត៌មាន',\n",
       "   'ទាក់ទង'): {'en': ['tel: +855 15 335 877, telegram: https://t.me/CADT_AA, facebook page: https://www.facebook.com/IDT.Academy'],\n",
       "   'km': ['tel: +855 15 335 877, telegram: https://t.me/CADT_AA, facebook page: https://www.facebook.com/IDT.Academy']}},\n",
       " 'askforidt': {('អំពី',\n",
       "   'about',\n",
       "   'mission',\n",
       "   'បេសកកម្ម',\n",
       "   'cadt',\n",
       "   'idt'): {'en': ['#produce qualified digital talents with an equipped skill set to contribute to the development of digital government, economy and society;',\n",
       "    '#develop teaching and learning approaches and diverse education technology for sustainability; and',\n",
       "    '#promote R & D activities from the early stage to young scholars. '], 'km': ['#ផលិត\\u200bអ្នក\\u200bមាន\\u200bទេពកោសល្យ\\u200bឌីជីថល\\u200bដែល\\u200bមាន\\u200bសមត្ថភាព\\u200bជាមួយ\\u200bនឹង\\u200bសំណុំ\\u200bជំនាញ\\u200bដែល\\u200bបាន\\u200bបំពាក់\\u200bដើម្បី\\u200bចូល\\u200bរួម\\u200bចំណែក\\u200bក្នុង\\u200bការ\\u200bអភិវឌ្ឍ\\u200bរដ្ឋាភិបាល\\u200bឌីជីថល សេដ្ឋកិច្ច និង\\u200bសង្គម។',\n",
       "    '#អភិវឌ្ឍវិធីសាស្រ្តបង្រៀន និងរៀន និងបច្ចេកវិទ្យាអប់រំចម្រុះ ដើម្បីនិរន្តរភាព។ និង',\n",
       "    '#ផ្សព្វផ្សាយសកម្មភាពស្រាវជ្រាវ និងអភិវឌ្ឍន៍ពីដំណាក់កាលដំបូង ដល់អ្នកសិក្សាវ័យក្មេង។ ']},\n",
       "  ('អំពី',\n",
       "   'about',\n",
       "   'partner',\n",
       "   'ដៃគូ',\n",
       "   'cadt',\n",
       "   'idt'): {'en': ['Here is the link you can visit:  https://www.idt.edu.kh/about-idt/#partners'], 'km': ['នេះជាតំណភ្ជាប់ដែលអ្នកអាចចូលទៅកាន់៖ https://www.idt.edu.kh/about-idt/#partners']},\n",
       "  ('អំពី',\n",
       "   'about',\n",
       "   'vision',\n",
       "   'ចក្ខុវិស័យ',\n",
       "   'cadt',\n",
       "   'idt'): {'en': ['To be a leading institute in digital technology with excellent education to foster digital talents toward digital transformation.'], 'km': ['ដើម្បីក្លាយជាវិទ្យាស្ថានឈានមុខគេក្នុងវិស័យបច្ចេកវិទ្យាឌីជីថល ជាមួយនឹងការអប់រំដ៏ល្អឥតខ្ចោះ ដើម្បីជំរុញទេពកោសល្យឌីជីថលឆ្ពោះទៅរកការផ្លាស់ប្តូរឌីជីថល។']},\n",
       "  ('អំពី',\n",
       "   'about',\n",
       "   'cadt',\n",
       "   'idt'): {'en': ['A public higher education institution specialized in digital technology, providing excellent training programs to foster digital talents indispensable for the development of the digital economy and society.'], 'km': ['គ្រឹះស្ថានឧត្តមសិក្សាសាធារណៈដែលមានឯកទេសខាងបច្ចេកវិទ្យាឌីជីថល ផ្តល់កម្មវិធីបណ្តុះបណ្តាលល្អៗ ដើម្បីជំរុញទេពកោសល្យឌីជីថលដែលមិនអាចខ្វះបានសម្រាប់ការអភិវឌ្ឍន៍សេដ្ឋកិច្ចឌីជីថល និងសង្គម។']}},\n",
       " 'askforlocation': {('institute',\n",
       "   'cadt',\n",
       "   'idt',\n",
       "   'location',\n",
       "   'វិទ្យាស្ថាន',\n",
       "   'បណ្ឌិត្យសភា'): {'en': ['Bridge 2, National Road 6A, Sangkat Prek Leap, Khan Chroy Changva, Phnom Penh. Her is link to google map: https://shorturl.at/8qO8h'],\n",
       "   'km': ['Bridge 2, National Road 6A, Sangkat Prek Leap, Khan Chroy Changva, Phnom Penh. Her is link to google map: https://shorturl.at/8qO8h']}},\n",
       " 'askformajor': {('computer science',\n",
       "   'វិទ្យាសាស្ត្រកុំព្យូទ័រ'): {'en': ['Bachelor of Computer Science is the study of computers and computational systems, We focus mostly on software systems, including computer theory, design, development, and application. The majority of Computer Science is related to Computer Systems, Data Science, Machine Learning, Information Security, Database Management, Design Thinking, Programming Languages, Software Engineering, and Theory of Computing.'], 'km': ['បរិញ្ញាបត្រវិទ្យាសាស្ត្រកុំព្យូទ័រ គឺជាការសិក្សាលើកុំព្យូទ័រ និងប្រព័ន្ធកុំព្យូទ័រ យើងផ្តោតភាគច្រើនលើប្រព័ន្ធកម្មវិធី រួមទាំងទ្រឹស្តីកុំព្យូទ័រ ការរចនា ការអភិវឌ្ឍន៍ និងកម្មវិធី។ វិទ្យាសាស្ត្រកុំព្យូទ័រភាគច្រើនទាក់ទងនឹងប្រព័ន្ធកុំព្យូទ័រ វិទ្យាសាស្ត្រទិន្នន័យ ការរៀនម៉ាស៊ីន សុវត្ថិភាពព័ត៌មាន ការគ្រប់គ្រងមូលដ្ឋានទិន្នន័យ ការគិតក្នុងការរចនា ភាសាសរសេរកម្មវិធី វិស្វកម្មកម្មវិធី និងទ្រឹស្តីកុំព្យូទ័រ។']},\n",
       "  ('network',\n",
       "   'networking',\n",
       "   'telecom',\n",
       "   'ទូរគមនាគមន៍',\n",
       "   'បណ្តាញ'): {'en': ['The bachelor’s program in Telecommunications and Network Engineering is designed to provide students with a firmly-grounded, practical, and multidisciplinary training with effective learning resources. Students will be trained to take exams in various international certifications such as Cisco Certified Network Associate (CCNA), CCNDA, CCNA Security, and CCNA Service Provider.'], 'km': ['កម្មវិធីបរិញ្ញាបត្រផ្នែកទូរគមនាគមន៍ និងវិស្វកម្មបណ្តាញត្រូវបានរចនាឡើងដើម្បីផ្តល់ឱ្យនិស្សិតនូវការបណ្តុះបណ្តាលដែលមានមូលដ្ឋានរឹងមាំ ជាក់ស្តែង និងពហុជំនាញ ជាមួយនឹងធនធានសិក្សាប្រកបដោយប្រសិទ្ធភាព។ សិស្សនឹងត្រូវបានបណ្តុះបណ្តាលដើម្បីប្រឡងក្នុងវិញ្ញាបនប័ត្រអន្តរជាតិផ្សេងៗដូចជា Cisco Certified Network Associate (CCNA), CCNDA, CCNA Security និង CCNA Service Provider។']},\n",
       "  ('digital business',\n",
       "   'អាជីវកម្ម',\n",
       "   'សហគ្រិន',\n",
       "   'ពាណិជ្ជកម្ម\\u200b',\n",
       "   'ពាណិជ្ជករ'): {'en': ['Our Bachelor of Digital Business specializes in e-commerce is a three-and-a-half-year undergraduate program, specifically designed to prepare students for the contemporary workforce and a global career especially for the emerging market. The program aims to equip students with an effective digital knowledge and a strong commercial grounding in business by combining theory and practice to build their understanding of business operation alongside the technology development.'],\n",
       "   'km': ['បរិញ្ញាបត្រពាណិជ្ជកម្មឌីជីថលរបស់យើងមានឯកទេសខាងពាណិជ្ជកម្មអេឡិចត្រូនិក គឺជាកម្មវិធីថ្នាក់បរិញ្ញាបត្ររយៈពេល 3 ឆ្នាំកន្លះ ដែលត្រូវបានរចនាឡើងជាពិសេសដើម្បីរៀបចំនិស្សិតសម្រាប់កម្លាំងការងារសហសម័យ និងអាជីពជាសកល ជាពិសេសសម្រាប់ទីផ្សារដែលកំពុងរីកចម្រើន។ កម្មវិធីនេះមានគោលបំណងផ្តល់ជូននិស្សិតនូវចំណេះដឹងឌីជីថលដ៏មានប្រសិទ្ធភាព និងមូលដ្ឋានពាណិជ្ជកម្មដ៏រឹងមាំនៅក្នុងអាជីវកម្ម ដោយរួមបញ្ចូលគ្នានូវទ្រឹស្តី និងការអនុវត្ត ដើម្បីបង្កើតការយល់ដឹងរបស់ពួកគេអំពីប្រតិបត្តិការអាជីវកម្ម រួមជាមួយនឹងការអភិវឌ្ឍន៍បច្ចេកវិទ្យា។']},\n",
       "  ('master',\n",
       "   'អនុបណ្ឌិត\\u200bវិទ្យាសាស្ត្រ\\u200bកុំព្យូទ័រ',\n",
       "   'អនុបណ្ឌិត\\u200b',\n",
       "   'master'): {'en': ['The Master of Computer Science is designed to provide advanced and in-depth knowledge and skills in both artificial intelligence and data science to students which can be applied in research or industrial fields. Graduates of this program are competent to define, formulate and direct scientific research and technology development in most advanced areas of ICT (Information and Communications Technology).'],\n",
       "   'km': ['អនុបណ្ឌិតវិទ្យាសាស្ត្រកុំព្យូទ័រត្រូវបានរៀបចំឡើងដើម្បីផ្តល់នូវចំណេះដឹង និងជំនាញកម្រិតខ្ពស់ និងស៊ីជម្រៅទាំងផ្នែកបញ្ញាសិប្បនិម្មិត និងវិទ្យាសាស្ត្រទិន្នន័យដល់សិស្ស ដែលអាចអនុវត្តក្នុងវិស័យស្រាវជ្រាវ ឬឧស្សាហកម្ម។ និស្សិតបញ្ចប់ការសិក្សានៃកម្មវិធីនេះមានសមត្ថភាពក្នុងការកំណត់ បង្កើត និងដឹកនាំការស្រាវជ្រាវវិទ្យាសាស្ត្រ និងការអភិវឌ្ឍន៍បច្ចេកវិទ្យានៅក្នុងផ្នែកកម្រិតខ្ពស់បំផុតនៃ ICT (បច្ចេកវិទ្យាព័ត៌មាន និងទំនាក់ទំនង)។']}},\n",
       " 'askforspecialize': {('cyber',\n",
       "   'cyber security',\n",
       "   'សន្តិសុខតាមអ៊ីនធឺណិត',\n",
       "   'សន្តិសុខអ៊ីនធឺណិត'): {'en': ['Specialize in Cyber Security at IDT, the Institute of Digital Technology. Our program equips you with the skills and knowledge to protect data and information from cyber threats. You will learn about network security, cryptography, ethical hacking, and more. IDT’s cutting-edge program will prepare you for a career in cyber security, one of the most in-demand fields today.'],\n",
       "   'km': ['ជំនាញផ្នែកសន្តិសុខតាមអ៊ីនធឺណិតនៅ IDT វិទ្យាស្ថានបច្ចេកវិទ្យាឌីជីថល។ កម្មវិធីរបស់យើងផ្តល់ឱ្យអ្នកនូវជំនាញ និងចំណេះដឹងដើម្បីការពារទិន្នន័យ និងព័ត៌មានពីការគំរាមកំហែងតាមអ៊ីនធឺណិត។ អ្នកនឹងរៀនអំពីសុវត្ថិភាពបណ្តាញ គ្រីបគ្រីប ការលួចចូលតាមក្រមសីលធម៌ និងច្រើនទៀត។ កម្មវិធីដ៏ទំនើបរបស់ IDT នឹងរៀបចំអ្នកសម្រាប់អាជីពក្នុងសន្តិសុខអ៊ីនធឺណិត ដែលជាផ្នែកមួយក្នុងចំនោមផ្នែកដែលត្រូវការបំផុតនាពេលបច្ចុប្បន្ននេះ។']},\n",
       "  ('telecommunication',\n",
       "   'networking',\n",
       "   'ទូរគមនាគមន៍',\n",
       "   'បណ្តាញ',\n",
       "   'telecom'): {'en': ['IDT, the Institute of Digital Technology, offers a cutting-edge program in Telecommunications and Network Engineering. Students will learn to design and optimize networks, equipping them for the ever-evolving world of technology.'], 'km': ['IDT ដែលជាវិទ្យាស្ថានបច្ចេកវិទ្យាឌីជីថល ផ្តល់ជូននូវកម្មវិធីទំនើបមួយក្នុងផ្នែកទូរគមនាគមន៍ និងវិស្វកម្មបណ្តាញ។ សិស្សនឹងរៀនរចនា និងបង្កើនប្រសិទ្ធភាពបណ្តាញ ដោយបំពាក់ពួកវាសម្រាប់ពិភពបច្ចេកវិទ្យាដែលកំពុងវិវឌ្ឍន៍។']},\n",
       "  ('data scinece',\n",
       "   'វិទ្យាសាស្ត្រទិន្នន័យ',\n",
       "   'ទិន្នន័យ'): {'en': ['IDT, the Institue of Digital Technology, aim to provide a skillfull Bachelor degree of Computer Science specialized in Data Science. Students will work in various settings, including research organizations, businesses, or government agencies.'], 'km': ['IDT ដែលជាវិទ្យាស្ថានបច្ចេកវិទ្យាឌីជីថល មានគោលបំណងផ្តល់សញ្ញាបត្របរិញ្ញាបត្រជំនាញផ្នែកវិទ្យាសាស្ត្រកុំព្យូទ័រឯកទេសផ្នែកវិទ្យាសាស្ត្រទិន្នន័យ។ សិស្សនឹងធ្វើការនៅក្នុងកន្លែងផ្សេងៗ រួមទាំងអង្គការស្រាវជ្រាវ អាជីវកម្ម ឬទីភ្នាក់ងាររដ្ឋាភិបាល។']},\n",
       "  ('e-commerce',\n",
       "   'ecommerce',\n",
       "   '\\u200bពាណិជ្ជកម្ម\\u200bអេឡិចត្រូនិក',\n",
       "   'ពាណិជ្ជកម្ម\\u200b',\n",
       "   'ពាណិជ្ជករ'): {'en': ['Our Bachelor of Digital Business specializes in e-commerce is a three-and-a-half-year undergraduate program, specifically designed to prepare students for the contemporary workforce and a global career especially for the emerging market. The program aims to equip students with an effective digital knowledge and a strong commercial grounding in business by combining theory and practice to build their understanding of business operation alongside the technology development.'],\n",
       "   'km': ['បរិញ្ញាបត្រពាណិជ្ជកម្មឌីជីថលរបស់យើងមានឯកទេសខាងពាណិជ្ជកម្មអេឡិចត្រូនិក គឺជាកម្មវិធីថ្នាក់បរិញ្ញាបត្ររយៈពេល 3 ឆ្នាំកន្លះ ដែលត្រូវបានរចនាឡើងជាពិសេសដើម្បីរៀបចំនិស្សិតសម្រាប់កម្លាំងការងារសហសម័យ និងអាជីពជាសកល ជាពិសេសសម្រាប់ទីផ្សារដែលកំពុងរីកចម្រើន។ កម្មវិធីនេះមានគោលបំណងផ្តល់ជូននិស្សិតនូវចំណេះដឹងឌីជីថលដ៏មានប្រសិទ្ធភាព និងមូលដ្ឋានពាណិជ្ជកម្មដ៏រឹងមាំនៅក្នុងអាជីវកម្ម ដោយរួមបញ្ចូលគ្នានូវទ្រឹស្តី និងការអនុវត្ត ដើម្បីបង្កើតការយល់ដឹងរបស់ពួកគេអំពីប្រតិបត្តិការអាជីវកម្ម រួមជាមួយនឹងការអភិវឌ្ឍន៍បច្ចេកវិទ្យា។']},\n",
       "  ('software engineering',\n",
       "   'កម្មវិធី'): {'en': ['IDT, the Institute of Digital Technology, aim to provide a skillful Bachelor of Computer Science speicialized in Software Engineering. Students will also develop the skills necessary to solve complex technical problems and contribute to the community and society.'], 'km': ['IDT ដែលជាវិទ្យាស្ថានបច្ចេកវិទ្យាឌីជីថល មានគោលបំណងផ្តល់នូវបរិញ្ញាបត្រជំនាញផ្នែកវិទ្យាសាស្ត្រកុំព្យូទ័រដែលមានជំនាញផ្នែកវិស្វកម្មកម្មវិធី។ សិស្សក៏នឹងអភិវឌ្ឍជំនាញចាំបាច់ដើម្បីដោះស្រាយបញ្ហាបច្ចេកទេសស្មុគស្មាញ និងរួមចំណែកដល់សហគមន៍ និងសង្គម។']}},\n",
       " 'greeting': {('hello',\n",
       "   'hi',\n",
       "   'hey',\n",
       "   'help',\n",
       "   'ជំរាបសួរ',\n",
       "   'ជម្រាបសួរ',\n",
       "   'ជួយផង',\n",
       "   'សួរមួយ'): {'en': ['Hello and welcome! How can I assist you on this fine day?',\n",
       "    \"Hi there! It's great to see you. What can I do for you today?\",\n",
       "    'Hey! I’m here to help you with whatever you need. How can I assist?',\n",
       "    'Greetings! How may I make your experience better today?',\n",
       "    'Welcome to our service! How can I be of assistance to you today?',\n",
       "    'Howdy! I’m here to help. What can I do for you today?',\n",
       "    'Salutations! How can I make your day a little easier?',\n",
       "    'Bonjour! I’m here to assist you. How can I help?',\n",
       "    'Hola! Let me know how I can assist you today.',\n",
       "    'Ciao! What can I do to help you today?',\n",
       "    'Hola! Let me know how I can assist you today.',\n",
       "    'Ciao! What can I do to help you today?'],\n",
       "   'km': ['សួស្តី\\u200bនិង\\u200bសូមស្វាគមន៍! តើខ្ញុំអាចជួយអ្នកនៅថ្ងៃដ៏ល្អនេះដោយរបៀបណា?',\n",
       "    'សួស្តី! វាល្អណាស់ដែលបានជួបអ្នក។ តើខ្ញុំអាចធ្វើអ្វីសម្រាប់អ្នកថ្ងៃនេះ?',\n",
       "    'សូមស្វាគមន៍មកកាន់វិទ្យាស្ថានបច្ចេកវិទ្យាឌីជីថល! តើខ្ញុំអាចជួយអ្នកដោយរបៀបណានៅថ្ងៃនេះ?']}},\n",
       " 'polite': {('thankful',\n",
       "   'thank you',\n",
       "   'thank',\n",
       "   'ok',\n",
       "   'yes',\n",
       "   'good',\n",
       "   'well',\n",
       "   'អរគុណ'): {'en': [\"You're welcome! If you need any more help or have further questions, feel free to ask. Have a great day!\",\n",
       "    \"You're welcome! If there's anything else you need, just let me know. I'm here to help!\"],\n",
       "   'km': ['សូមអរគុណ!ប្រសិនបើអ្នកត្រូវការជំនួយបន្ថែម ឬមានចម្ងល់បន្ថែម សូមសួរដោយសេរី។ សូម\\u200bឱ្យ\\u200bមាន\\u200bថ្ងៃ\\u200bល្អ!',\n",
       "    'សូមអរគុណ!ប្រសិនបើមានអ្វីផ្សេងទៀតដែលអ្នកត្រូវការ, គ្រាន់តែប្រាប់ខ្ញុំដឹង។ ខ្ញុំនៅទីនេះដើម្បីជួយ!']}}}"
      ]
     },
     "execution_count": 17,
     "metadata": {},
     "output_type": "execute_result"
    }
   ],
   "source": [
    "dict_intent_entity"
   ]
  },
  {
   "cell_type": "code",
   "execution_count": null,
   "metadata": {},
   "outputs": [],
   "source": [
    "import pickle as pkl\n",
    "# save dictionary of intent and entity as pickle file\n",
    "pkl.dump(dict_intent_entity,open(\"dict_intent_entity.pkl\",\"wb\"))"
   ]
  },
  {
   "cell_type": "code",
   "execution_count": 19,
   "metadata": {},
   "outputs": [],
   "source": [
    "# drop null values in question column\n",
    "train_data = dataset[[\"intent\",\"question\"]].dropna()"
   ]
  },
  {
   "cell_type": "code",
   "execution_count": 20,
   "metadata": {},
   "outputs": [
    {
     "name": "stderr",
     "output_type": "stream",
     "text": [
      "c:\\Users\\davan\\anaconda3\\Lib\\site-packages\\sentence_transformers\\cross_encoder\\CrossEncoder.py:11: TqdmExperimentalWarning: Using `tqdm.autonotebook.tqdm` in notebook mode. Use `tqdm.tqdm` instead to force console mode (e.g. in jupyter console)\n",
      "  from tqdm.autonotebook import tqdm, trange\n",
      "c:\\Users\\davan\\anaconda3\\Lib\\site-packages\\huggingface_hub\\file_download.py:1132: FutureWarning: `resume_download` is deprecated and will be removed in version 1.0.0. Downloads always resume when possible. If you want to force a new download, use `force_download=True`.\n",
      "  warnings.warn(\n"
     ]
    }
   ],
   "source": [
    "from sentence_transformers import SentenceTransformer\n",
    "# load pre-trained model for sentence embedding\n",
    "model = SentenceTransformer('sentence-transformers/paraphrase-multilingual-mpnet-base-v2')"
   ]
  },
  {
   "cell_type": "code",
   "execution_count": 21,
   "metadata": {},
   "outputs": [
    {
     "name": "stderr",
     "output_type": "stream",
     "text": [
      "C:\\Users\\davan\\AppData\\Local\\Temp\\ipykernel_14096\\2471366086.py:1: FutureWarning: Series.__getitem__ treating keys as positions is deprecated. In a future version, integer keys will always be treated as labels (consistent with DataFrame behavior). To access a value by position, use `ser.iloc[pos]`\n",
      "  feature_questions = pd.DataFrame(train_data[[\"question\"]].apply(lambda x: model.encode(x[0]),axis=1).values.tolist())\n"
     ]
    }
   ],
   "source": [
    "# encode questions\n",
    "feature_questions = pd.DataFrame(train_data[[\"question\"]].apply(lambda x: model.encode(x[0]),axis=1).values.tolist())"
   ]
  },
  {
   "cell_type": "code",
   "execution_count": 22,
   "metadata": {},
   "outputs": [],
   "source": [
    "target_intents = train_data[[\"intent\"]]"
   ]
  },
  {
   "cell_type": "code",
   "execution_count": 23,
   "metadata": {},
   "outputs": [
    {
     "name": "stderr",
     "output_type": "stream",
     "text": [
      "C:\\Users\\davan\\AppData\\Local\\Temp\\ipykernel_14096\\3723570839.py:1: FutureWarning: DataFrame.applymap has been deprecated. Use DataFrame.map instead.\n",
      "  target_intents = target_intents.applymap(lambda x: x.lower())\n"
     ]
    }
   ],
   "source": [
    "# change target intents to lowercase\n",
    "target_intents = target_intents.applymap(lambda x: x.lower())"
   ]
  },
  {
   "cell_type": "code",
   "execution_count": 25,
   "metadata": {},
   "outputs": [
    {
     "name": "stderr",
     "output_type": "stream",
     "text": [
      "c:\\Users\\davan\\anaconda3\\Lib\\site-packages\\sklearn\\preprocessing\\_label.py:114: DataConversionWarning: A column-vector y was passed when a 1d array was expected. Please change the shape of y to (n_samples, ), for example using ravel().\n",
      "  y = column_or_1d(y, warn=True)\n"
     ]
    }
   ],
   "source": [
    "from sklearn.preprocessing import LabelEncoder\n",
    "# encode target intents\n",
    "le = LabelEncoder()\n",
    "target_intents = le.fit_transform(target_intents)"
   ]
  },
  {
   "cell_type": "code",
   "execution_count": 27,
   "metadata": {},
   "outputs": [],
   "source": [
    "# save feature questions and target intents as pickle file\n",
    "pkl.dump((feature_questions,target_intents),open(\"dataset.pkl\",\"wb\"))"
   ]
  },
  {
   "cell_type": "code",
   "execution_count": 28,
   "metadata": {},
   "outputs": [],
   "source": [
    "# save label encoder as pickle file\n",
    "pkl.dump(le,open(\"label_encoder.pkl\",\"wb\"))"
   ]
  }
 ],
 "metadata": {
  "kernelspec": {
   "display_name": "cloudspace",
   "language": "python",
   "name": "python3"
  },
  "language_info": {
   "codemirror_mode": {
    "name": "ipython",
    "version": 3
   },
   "file_extension": ".py",
   "mimetype": "text/x-python",
   "name": "python",
   "nbconvert_exporter": "python",
   "pygments_lexer": "ipython3",
   "version": "3.11.7"
  }
 },
 "nbformat": 4,
 "nbformat_minor": 2
}
